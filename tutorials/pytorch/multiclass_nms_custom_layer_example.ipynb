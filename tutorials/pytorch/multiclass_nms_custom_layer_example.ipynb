{
 "cells": [
  {
   "metadata": {},
   "cell_type": "markdown",
   "source": [
    "# Custom Layer Usage Example - multiclass_nms Layer\n",
    "\n",
    "## Overview\n",
    "\n",
    "In this tutorial we will illustrate how to integrate a custom layer with model quantization using the MCT library.\n",
    "Using a simple object detection model as an example, we will apply post-training quantization, then incorporate a custom NMS layer into the quantized model."
   ],
   "id": "27d28731857f2991"
  },
  {
   "metadata": {},
   "cell_type": "markdown",
   "source": [
    "## Setup\n",
    "\n",
    "### Install & import relevant packages"
   ],
   "id": "29309a0291ff4f41"
  },
  {
   "metadata": {
    "ExecuteTime": {
     "end_time": "2025-02-05T16:04:15.883254Z",
     "start_time": "2025-02-05T16:04:06.966813Z"
    }
   },
   "cell_type": "code",
   "source": [
    "!pip install -q torch\n",
    "!pip install onnx\n",
    "!pip install -q model_compression_toolkit"
   ],
   "id": "initial_id",
   "outputs": [
    {
     "name": "stdout",
     "output_type": "stream",
     "text": [
      "\r\n",
      "\u001B[1m[\u001B[0m\u001B[34;49mnotice\u001B[0m\u001B[1;39;49m]\u001B[0m\u001B[39;49m A new release of pip is available: \u001B[0m\u001B[31;49m23.0.1\u001B[0m\u001B[39;49m -> \u001B[0m\u001B[32;49m25.0\u001B[0m\r\n",
      "\u001B[1m[\u001B[0m\u001B[34;49mnotice\u001B[0m\u001B[1;39;49m]\u001B[0m\u001B[39;49m To update, run: \u001B[0m\u001B[32;49mpip install --upgrade pip\u001B[0m\r\n",
      "Requirement already satisfied: onnx in /Vols/vol_design/tools/swat/users/yardeny/projects/alg-llm-tools/llm_tools_venv/lib/python3.10/site-packages (1.17.0)\r\n",
      "Requirement already satisfied: numpy>=1.20 in /Vols/vol_design/tools/swat/users/yardeny/projects/alg-llm-tools/llm_tools_venv/lib/python3.10/site-packages (from onnx) (1.26.4)\r\n",
      "Requirement already satisfied: protobuf>=3.20.2 in /Vols/vol_design/tools/swat/users/yardeny/projects/alg-llm-tools/llm_tools_venv/lib/python3.10/site-packages (from onnx) (5.29.3)\r\n",
      "\r\n",
      "\u001B[1m[\u001B[0m\u001B[34;49mnotice\u001B[0m\u001B[1;39;49m]\u001B[0m\u001B[39;49m A new release of pip is available: \u001B[0m\u001B[31;49m23.0.1\u001B[0m\u001B[39;49m -> \u001B[0m\u001B[32;49m25.0\u001B[0m\r\n",
      "\u001B[1m[\u001B[0m\u001B[34;49mnotice\u001B[0m\u001B[1;39;49m]\u001B[0m\u001B[39;49m To update, run: \u001B[0m\u001B[32;49mpip install --upgrade pip\u001B[0m\r\n",
      "\r\n",
      "\u001B[1m[\u001B[0m\u001B[34;49mnotice\u001B[0m\u001B[1;39;49m]\u001B[0m\u001B[39;49m A new release of pip is available: \u001B[0m\u001B[31;49m23.0.1\u001B[0m\u001B[39;49m -> \u001B[0m\u001B[32;49m25.0\u001B[0m\r\n",
      "\u001B[1m[\u001B[0m\u001B[34;49mnotice\u001B[0m\u001B[1;39;49m]\u001B[0m\u001B[39;49m To update, run: \u001B[0m\u001B[32;49mpip install --upgrade pip\u001B[0m\r\n"
     ]
    }
   ],
   "execution_count": 78
  },
  {
   "metadata": {
    "ExecuteTime": {
     "end_time": "2025-02-05T16:04:15.894280Z",
     "start_time": "2025-02-05T16:04:15.887336Z"
    }
   },
   "cell_type": "code",
   "source": [
    "import torch\n",
    "import torch.nn as nn\n",
    "import torch.nn.functional as F\n",
    "from typing import Iterator, List\n",
    "import model_compression_toolkit as mct\n",
    "from sony_custom_layers.pytorch.nms import multiclass_nms\n",
    "from sony_custom_layers.pytorch.nms.nms_with_indices import multiclass_nms_with_indices"
   ],
   "id": "3a7da9c475f95aa9",
   "outputs": [],
   "execution_count": 79
  },
  {
   "metadata": {},
   "cell_type": "markdown",
   "source": [
    "## Model Quantization\n",
    "\n",
    "### Create Model Instance\n",
    "\n",
    "We will start with creating a simple object-detection model instance as an example. You can replace the model with your own model, or use a pre-trained model (Make sure the model is supported by MCT library). "
   ],
   "id": "cb2a4ee6cf3e5e98"
  },
  {
   "metadata": {
    "ExecuteTime": {
     "end_time": "2025-02-05T16:04:15.919644Z",
     "start_time": "2025-02-05T16:04:15.896518Z"
    }
   },
   "cell_type": "code",
   "source": [
    "class ObjectDetector(nn.Module):\n",
    "    def __init__(self, num_classes=2, max_detections=20):\n",
    "        super().__init__()\n",
    "        self.max_detections = max_detections\n",
    "\n",
    "        self.backbone = nn.Sequential(\n",
    "            nn.Conv2d(3, 16, kernel_size=3, padding=1),\n",
    "            nn.ReLU(),\n",
    "            nn.MaxPool2d(2, 2),\n",
    "            nn.Conv2d(16, 32, kernel_size=3, padding=1),\n",
    "            nn.ReLU(),\n",
    "            nn.MaxPool2d(2, 2)\n",
    "        )\n",
    "\n",
    "        self.bbox_reg = nn.Conv2d(32, 4 * max_detections, kernel_size=1)\n",
    "        self.class_reg = nn.Conv2d(32, num_classes * max_detections, kernel_size=1)\n",
    "\n",
    "    def forward(self, x):\n",
    "        batch_size = x.size(0)\n",
    "        features = self.backbone(x)\n",
    "        H_prime = features.shape[2]\n",
    "        W_prime = features.shape[3]\n",
    "        \n",
    "        bbox = self.bbox_reg(features)\n",
    "        bbox = bbox.view(batch_size, self.max_detections, 4, H_prime * W_prime).mean(dim=3)\n",
    "        class_probs = self.class_reg(features).view(batch_size, self.max_detections, -1, H_prime * W_prime)\n",
    "        class_probs = F.softmax(class_probs.mean(dim=2), dim=2)\n",
    "\n",
    "        return bbox, class_probs\n",
    "\n",
    "model = ObjectDetector()\n",
    "model.eval()"
   ],
   "id": "cbe0031bb7f16986",
   "outputs": [
    {
     "data": {
      "text/plain": [
       "ObjectDetector(\n",
       "  (backbone): Sequential(\n",
       "    (0): Conv2d(3, 16, kernel_size=(3, 3), stride=(1, 1), padding=(1, 1))\n",
       "    (1): ReLU()\n",
       "    (2): MaxPool2d(kernel_size=2, stride=2, padding=0, dilation=1, ceil_mode=False)\n",
       "    (3): Conv2d(16, 32, kernel_size=(3, 3), stride=(1, 1), padding=(1, 1))\n",
       "    (4): ReLU()\n",
       "    (5): MaxPool2d(kernel_size=2, stride=2, padding=0, dilation=1, ceil_mode=False)\n",
       "  )\n",
       "  (bbox_reg): Conv2d(32, 80, kernel_size=(1, 1), stride=(1, 1))\n",
       "  (class_reg): Conv2d(32, 40, kernel_size=(1, 1), stride=(1, 1))\n",
       ")"
      ]
     },
     "execution_count": 80,
     "metadata": {},
     "output_type": "execute_result"
    }
   ],
   "execution_count": 80
  },
  {
   "metadata": {},
   "cell_type": "markdown",
   "source": [
    "### Post-Training Quantization using Model Compression Toolkit\n",
    "\n",
    "We're all set to use MCT's post-training quantization. \n",
    "To begin, we'll define a representative dataset generator. Please note that for demonstration purposes, we will generate random data of the desired image shape instead of using real images.  \n",
    "Then, we will apply PTQ on our model using the dataset generator we have created."
   ],
   "id": "d653b898460b44e2"
  },
  {
   "metadata": {
    "ExecuteTime": {
     "end_time": "2025-02-05T16:04:19.230349Z",
     "start_time": "2025-02-05T16:04:15.922470Z"
    }
   },
   "cell_type": "code",
   "source": [
    "NUM_ITERS = 20\n",
    "BATCH_SIZE = 32\n",
    "\n",
    "def get_representative_dataset(n_iter: int):\n",
    "    \"\"\"\n",
    "    This function creates a representative dataset generator. The generator yields numpy\n",
    "        arrays of batches of shape: [Batch, C, H, W].\n",
    "    Args:\n",
    "        n_iter: number of iterations for MCT to calibrate on\n",
    "    Returns:\n",
    "        A representative dataset generator\n",
    "    \"\"\"\n",
    "    def representative_dataset() -> Iterator[List]:\n",
    "        for _ in range(n_iter):\n",
    "            yield [torch.rand(BATCH_SIZE, 3, 64, 64)]\n",
    "\n",
    "    return representative_dataset\n",
    "\n",
    "representative_data_generator = get_representative_dataset(n_iter=NUM_ITERS)\n",
    "\n",
    "quant_model, _ = mct.ptq.pytorch_post_training_quantization(model, representative_data_gen=representative_data_generator)\n",
    "print('Quantized model is ready')"
   ],
   "id": "72d25144f573ead3",
   "outputs": [
    {
     "name": "stderr",
     "output_type": "stream",
     "text": [
      "Statistics Collection: 20it [00:02,  6.80it/s]\n"
     ]
    },
    {
     "name": "stdout",
     "output_type": "stream",
     "text": [
      "\n",
      "Running quantization parameters search. This process might take some time, depending on the model size and the selected quantization methods.\n",
      "\n"
     ]
    },
    {
     "name": "stderr",
     "output_type": "stream",
     "text": [
      "Calculating quantization parameters: 100%|██████████| 14/14 [00:00<00:00, 50.77it/s]"
     ]
    },
    {
     "name": "stdout",
     "output_type": "stream",
     "text": [
      "Weights_memory: 8880.0, Activation_memory: 65536.0, Total_memory: 74416.0, BOPS: 569083166720\n",
      "\n",
      "Please run your accuracy evaluation on the exported quantized model to verify it's accuracy.\n",
      "Checkout the FAQ and Troubleshooting pages for resolving common issues and improving the quantized model accuracy:\n",
      "FAQ: https://github.com/sony/model_optimization/tree/main/FAQ.md\n",
      "Quantization Troubleshooting: https://github.com/sony/model_optimization/tree/main/quantization_troubleshooting.md\n",
      "Quantized model is ready\n"
     ]
    },
    {
     "name": "stderr",
     "output_type": "stream",
     "text": [
      "\n"
     ]
    }
   ],
   "execution_count": 81
  },
  {
   "metadata": {},
   "cell_type": "markdown",
   "source": [
    "##  Custom Layer Stitching\n",
    "\n",
    "Now that we have a quantized model, we can add it a custom layer. In our example we will add NMS layer by creating a model wrapper that applies NMS over the quantized model output. You can use this wrapper for your own model."
   ],
   "id": "3a8d28fed3a87f65"
  },
  {
   "metadata": {
    "ExecuteTime": {
     "end_time": "2025-02-05T16:04:19.238306Z",
     "start_time": "2025-02-05T16:04:19.231720Z"
    }
   },
   "cell_type": "code",
   "source": [
    "class PostProcessWrapper(nn.Module):\n",
    "    def __init__(self,\n",
    "                 model: nn.Module,\n",
    "                 score_threshold: float = 0.001,\n",
    "                 iou_threshold: float = 0.7,\n",
    "                 max_detections: int = 300):\n",
    "\n",
    "        super(PostProcessWrapper, self).__init__()\n",
    "        self.model = model\n",
    "        self.score_threshold = score_threshold\n",
    "        self.iou_threshold = iou_threshold\n",
    "        self.max_detections = max_detections\n",
    "\n",
    "    def forward(self, images):\n",
    "        # model inference\n",
    "        outputs = self.model(images)\n",
    "\n",
    "        boxes = outputs[0]\n",
    "        scores = outputs[1]\n",
    "        nms = multiclass_nms(boxes=boxes, scores=scores, score_threshold=self.score_threshold,\n",
    "                             iou_threshold=self.iou_threshold, max_detections=self.max_detections)\n",
    "        \"\"\"\n",
    "        In case you're interested in NMS with indices, you can replace the above with the following code:\n",
    "            nms = multiclass_nms_with_indices(boxes=boxes, scores=scores, score_threshold=self.score_threshold, iou_threshold=self.iou_threshold, max_detections=self.max_detections)\n",
    "        \"\"\"\n",
    "        return nms\n",
    "\n",
    "device = \"cuda\" if torch.cuda.is_available() else \"cpu\"\n",
    "quant_model_with_nms = PostProcessWrapper(model=quant_model,\n",
    "                                    score_threshold=0.001,\n",
    "                                    iou_threshold=0.7,\n",
    "                                    max_detections=300).to(device=device)\n",
    "print('Quantized model with NMS is ready')"
   ],
   "id": "baa386a04a8dd664",
   "outputs": [
    {
     "name": "stdout",
     "output_type": "stream",
     "text": [
      "Quantized model with NMS is ready\n"
     ]
    }
   ],
   "execution_count": 82
  },
  {
   "metadata": {},
   "cell_type": "markdown",
   "source": [
    "### Model Export\n",
    "\n",
    "Finally, we can export the quantized model into a .onnx format file. Please ensure that the save_model_path has been set correctly."
   ],
   "id": "e7ca57539bdc7239"
  },
  {
   "metadata": {
    "ExecuteTime": {
     "end_time": "2025-02-05T16:04:19.528180Z",
     "start_time": "2025-02-05T16:04:19.239579Z"
    }
   },
   "cell_type": "code",
   "source": [
    "mct.exporter.pytorch_export_model(model=quant_model_with_nms,\n",
    "                                  save_model_path='./qmodel_with_nms.onnx',\n",
    "                                  repr_dataset=representative_data_generator)"
   ],
   "id": "776a6f99bd0a6efe",
   "outputs": [
    {
     "name": "stderr",
     "output_type": "stream",
     "text": [
      "/Vols/vol_design/tools/swat/users/yardeny/projects/alg-llm-tools/llm_tools_venv/lib/python3.10/site-packages/mct_quantizers/pytorch/quantizers/weights_inferable_quantizers/weights_symmetric_inferable_quantizer.py:52: TracerWarning: torch.tensor results are registered as constants in the trace. You can safely ignore this warning if you use this function to create tensors out of constant variables that would be the same every time you call this function. In any other case, this might cause the trace to be incorrect.\n",
      "  threshold = torch.tensor(threshold, dtype=torch.float32).to(get_working_device())\n"
     ]
    },
    {
     "name": "stdout",
     "output_type": "stream",
     "text": [
      "Exporting onnx model with MCTQ quantizers: ./qmodel_with_nms.onnx\n"
     ]
    }
   ],
   "execution_count": 83
  },
  {
   "metadata": {},
   "cell_type": "markdown",
   "source": [
    "Copyright 2025 Sony Semiconductor Israel, Inc. All rights reserved.\n",
    "\n",
    "Licensed under the Apache License, Version 2.0 (the \"License\"); you may not use this file except in compliance with the License. You may obtain a copy of the License at\n",
    "\n",
    "http://www.apache.org/licenses/LICENSE-2.0\n",
    "Unless required by applicable law or agreed to in writing, software distributed under the License is distributed on an \"AS IS\" BASIS, WITHOUT WARRANTIES OR CONDITIONS OF ANY KIND, either express or implied. See the License for the specific language governing permissions and limitations under the License."
   ],
   "id": "bb7c13e41a012f3"
  }
 ],
 "metadata": {
  "kernelspec": {
   "display_name": "Python 3",
   "language": "python",
   "name": "python3"
  },
  "language_info": {
   "codemirror_mode": {
    "name": "ipython",
    "version": 2
   },
   "file_extension": ".py",
   "mimetype": "text/x-python",
   "name": "python",
   "nbconvert_exporter": "python",
   "pygments_lexer": "ipython2",
   "version": "2.7.6"
  }
 },
 "nbformat": 4,
 "nbformat_minor": 5
}
